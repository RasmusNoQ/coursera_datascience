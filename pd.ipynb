{
 "cells": [
  {
   "cell_type": "code",
   "execution_count": 11,
   "id": "986589f6",
   "metadata": {},
   "outputs": [],
   "source": [
    "import numpy as np\n",
    "import pandas as pd\n",
    "import matplotlib.pyplot as plt\n",
    "\n",
    "%matplotlib inline"
   ]
  },
  {
   "cell_type": "code",
   "execution_count": 12,
   "id": "1ba767cb",
   "metadata": {},
   "outputs": [],
   "source": [
    "sales = pd.read_csv('data/sales_data.csv',parse_dates=['Date'])"
   ]
  },
  {
   "cell_type": "code",
   "execution_count": 13,
   "id": "3e5ac81c",
   "metadata": {},
   "outputs": [
    {
     "data": {
      "text/plain": [
       "<bound method NDFrame.head of              Date  Day      Month  Year  Customer_Age             Age_Group  \\\n",
       "0      2013-11-26   26   November  2013            19           Youth (<25)   \n",
       "1      2015-11-26   26   November  2015            19           Youth (<25)   \n",
       "2      2014-03-23   23      March  2014            49        Adults (35-64)   \n",
       "3      2016-03-23   23      March  2016            49        Adults (35-64)   \n",
       "4      2014-05-15   15        May  2014            47        Adults (35-64)   \n",
       "5      2016-05-15   15        May  2016            47        Adults (35-64)   \n",
       "6      2014-05-22   22        May  2014            47        Adults (35-64)   \n",
       "7      2016-05-22   22        May  2016            47        Adults (35-64)   \n",
       "8      2014-02-22   22   February  2014            35        Adults (35-64)   \n",
       "9      2016-02-22   22   February  2016            35        Adults (35-64)   \n",
       "10     2013-07-30   30       July  2013            32  Young Adults (25-34)   \n",
       "11     2015-07-30   30       July  2015            32  Young Adults (25-34)   \n",
       "12     2013-07-15   15       July  2013            34  Young Adults (25-34)   \n",
       "13     2015-07-15   15       July  2015            34  Young Adults (25-34)   \n",
       "14     2013-08-02    2     August  2013            29  Young Adults (25-34)   \n",
       "15     2015-08-02    2     August  2015            29  Young Adults (25-34)   \n",
       "16     2013-09-02    2  September  2013            29  Young Adults (25-34)   \n",
       "17     2015-09-02    2  September  2015            29  Young Adults (25-34)   \n",
       "18     2014-01-22   22    January  2014            29  Young Adults (25-34)   \n",
       "19     2016-01-22   22    January  2016            29  Young Adults (25-34)   \n",
       "20     2014-05-17   17        May  2014            29  Young Adults (25-34)   \n",
       "21     2016-05-17   17        May  2016            29  Young Adults (25-34)   \n",
       "22     2014-03-27   27      March  2014            51        Adults (35-64)   \n",
       "23     2016-03-27   27      March  2016            51        Adults (35-64)   \n",
       "24     2013-08-25   25     August  2013            49        Adults (35-64)   \n",
       "25     2015-08-25   25     August  2015            49        Adults (35-64)   \n",
       "26     2013-12-26   26   December  2013            49        Adults (35-64)   \n",
       "27     2015-12-26   26   December  2015            49        Adults (35-64)   \n",
       "28     2014-01-02    2    January  2014            48        Adults (35-64)   \n",
       "29     2016-01-02    2    January  2016            48        Adults (35-64)   \n",
       "...           ...  ...        ...   ...           ...                   ...   \n",
       "113006 2014-03-28   28      March  2014            28  Young Adults (25-34)   \n",
       "113007 2016-03-28   28      March  2016            28  Young Adults (25-34)   \n",
       "113008 2014-01-18   18    January  2014            32  Young Adults (25-34)   \n",
       "113009 2016-01-18   18    January  2016            32  Young Adults (25-34)   \n",
       "113010 2014-04-10   10      April  2014            25  Young Adults (25-34)   \n",
       "113011 2016-04-10   10      April  2016            25  Young Adults (25-34)   \n",
       "113012 2013-09-16   16  September  2013            20           Youth (<25)   \n",
       "113013 2015-09-16   16  September  2015            20           Youth (<25)   \n",
       "113014 2013-12-10   10   December  2013            20           Youth (<25)   \n",
       "113015 2015-12-10   10   December  2015            20           Youth (<25)   \n",
       "113016 2013-10-04    4    October  2013            20           Youth (<25)   \n",
       "113017 2015-10-04    4    October  2015            20           Youth (<25)   \n",
       "113018 2014-07-30   30       July  2014            33  Young Adults (25-34)   \n",
       "113019 2016-07-30   30       July  2016            33  Young Adults (25-34)   \n",
       "113020 2013-10-02    2    October  2013            34  Young Adults (25-34)   \n",
       "113021 2015-10-02    2    October  2015            34  Young Adults (25-34)   \n",
       "113022 2014-03-20   20      March  2014            34  Young Adults (25-34)   \n",
       "113023 2016-03-20   20      March  2016            34  Young Adults (25-34)   \n",
       "113024 2014-04-03    3      April  2014            34  Young Adults (25-34)   \n",
       "113025 2016-04-03    3      April  2016            34  Young Adults (25-34)   \n",
       "113026 2013-07-08    8       July  2013            29  Young Adults (25-34)   \n",
       "113027 2015-07-08    8       July  2015            29  Young Adults (25-34)   \n",
       "113028 2013-12-28   28   December  2013            41        Adults (35-64)   \n",
       "113029 2015-12-28   28   December  2015            41        Adults (35-64)   \n",
       "113030 2014-04-12   12      April  2014            41        Adults (35-64)   \n",
       "113031 2016-04-12   12      April  2016            41        Adults (35-64)   \n",
       "113032 2014-04-02    2      April  2014            18           Youth (<25)   \n",
       "113033 2016-04-02    2      April  2016            18           Youth (<25)   \n",
       "113034 2014-03-04    4      March  2014            37        Adults (35-64)   \n",
       "113035 2016-03-04    4      March  2016            37        Adults (35-64)   \n",
       "\n",
       "       Customer_Gender         Country             State Product_Category  \\\n",
       "0                    M          Canada  British Columbia      Accessories   \n",
       "1                    M          Canada  British Columbia      Accessories   \n",
       "2                    M       Australia   New South Wales      Accessories   \n",
       "3                    M       Australia   New South Wales      Accessories   \n",
       "4                    F       Australia   New South Wales      Accessories   \n",
       "5                    F       Australia   New South Wales      Accessories   \n",
       "6                    F       Australia          Victoria      Accessories   \n",
       "7                    F       Australia          Victoria      Accessories   \n",
       "8                    M       Australia          Victoria      Accessories   \n",
       "9                    M       Australia          Victoria      Accessories   \n",
       "10                   F       Australia          Victoria      Accessories   \n",
       "11                   F       Australia          Victoria      Accessories   \n",
       "12                   M       Australia          Victoria      Accessories   \n",
       "13                   M       Australia          Victoria      Accessories   \n",
       "14                   M          Canada  British Columbia      Accessories   \n",
       "15                   M          Canada  British Columbia      Accessories   \n",
       "16                   M          Canada  British Columbia      Accessories   \n",
       "17                   M          Canada  British Columbia      Accessories   \n",
       "18                   M          Canada  British Columbia      Accessories   \n",
       "19                   M          Canada  British Columbia      Accessories   \n",
       "20                   M          Canada  British Columbia      Accessories   \n",
       "21                   M          Canada  British Columbia      Accessories   \n",
       "22                   M   United States            Oregon      Accessories   \n",
       "23                   M   United States            Oregon      Accessories   \n",
       "24                   M          Canada  British Columbia      Accessories   \n",
       "25                   M          Canada  British Columbia      Accessories   \n",
       "26                   M          Canada  British Columbia      Accessories   \n",
       "27                   M          Canada  British Columbia      Accessories   \n",
       "28                   F          Canada  British Columbia      Accessories   \n",
       "29                   F          Canada  British Columbia      Accessories   \n",
       "...                ...             ...               ...              ...   \n",
       "113006               F         Germany          Saarland         Clothing   \n",
       "113007               F         Germany          Saarland         Clothing   \n",
       "113008               F       Australia          Victoria         Clothing   \n",
       "113009               F       Australia          Victoria         Clothing   \n",
       "113010               M         Germany           Hamburg         Clothing   \n",
       "113011               M         Germany           Hamburg         Clothing   \n",
       "113012               F   United States        Washington         Clothing   \n",
       "113013               F   United States        Washington         Clothing   \n",
       "113014               F   United States        Washington         Clothing   \n",
       "113015               F   United States        Washington         Clothing   \n",
       "113016               M   United States            Oregon         Clothing   \n",
       "113017               M   United States            Oregon         Clothing   \n",
       "113018               M   United States            Oregon         Clothing   \n",
       "113019               M   United States            Oregon         Clothing   \n",
       "113020               M   United States        California         Clothing   \n",
       "113021               M   United States        California         Clothing   \n",
       "113022               M   United States        California         Clothing   \n",
       "113023               M   United States        California         Clothing   \n",
       "113024               M   United States        California         Clothing   \n",
       "113025               M   United States        California         Clothing   \n",
       "113026               M         Germany            Hessen         Clothing   \n",
       "113027               M         Germany            Hessen         Clothing   \n",
       "113028               M  United Kingdom           England         Clothing   \n",
       "113029               M  United Kingdom           England         Clothing   \n",
       "113030               M  United Kingdom           England         Clothing   \n",
       "113031               M  United Kingdom           England         Clothing   \n",
       "113032               M       Australia        Queensland         Clothing   \n",
       "113033               M       Australia        Queensland         Clothing   \n",
       "113034               F          France     Seine (Paris)         Clothing   \n",
       "113035               F          France     Seine (Paris)         Clothing   \n",
       "\n",
       "       Sub_Category              Product  Order_Quantity  Unit_Cost  \\\n",
       "0        Bike Racks  Hitch Rack - 4-Bike               8         45   \n",
       "1        Bike Racks  Hitch Rack - 4-Bike               8         45   \n",
       "2        Bike Racks  Hitch Rack - 4-Bike              23         45   \n",
       "3        Bike Racks  Hitch Rack - 4-Bike              20         45   \n",
       "4        Bike Racks  Hitch Rack - 4-Bike               4         45   \n",
       "5        Bike Racks  Hitch Rack - 4-Bike               5         45   \n",
       "6        Bike Racks  Hitch Rack - 4-Bike               4         45   \n",
       "7        Bike Racks  Hitch Rack - 4-Bike               2         45   \n",
       "8        Bike Racks  Hitch Rack - 4-Bike              22         45   \n",
       "9        Bike Racks  Hitch Rack - 4-Bike              21         45   \n",
       "10       Bike Racks  Hitch Rack - 4-Bike               8         45   \n",
       "11       Bike Racks  Hitch Rack - 4-Bike               8         45   \n",
       "12       Bike Racks  Hitch Rack - 4-Bike               7         45   \n",
       "13       Bike Racks  Hitch Rack - 4-Bike               7         45   \n",
       "14       Bike Racks  Hitch Rack - 4-Bike               5         45   \n",
       "15       Bike Racks  Hitch Rack - 4-Bike               7         45   \n",
       "16       Bike Racks  Hitch Rack - 4-Bike               2         45   \n",
       "17       Bike Racks  Hitch Rack - 4-Bike               1         45   \n",
       "18       Bike Racks  Hitch Rack - 4-Bike               1         45   \n",
       "19       Bike Racks  Hitch Rack - 4-Bike               1         45   \n",
       "20       Bike Racks  Hitch Rack - 4-Bike               6         45   \n",
       "21       Bike Racks  Hitch Rack - 4-Bike               8         45   \n",
       "22       Bike Racks  Hitch Rack - 4-Bike               9         45   \n",
       "23       Bike Racks  Hitch Rack - 4-Bike               7         45   \n",
       "24       Bike Racks  Hitch Rack - 4-Bike               3         45   \n",
       "25       Bike Racks  Hitch Rack - 4-Bike               1         45   \n",
       "26       Bike Racks  Hitch Rack - 4-Bike               6         45   \n",
       "27       Bike Racks  Hitch Rack - 4-Bike               5         45   \n",
       "28       Bike Racks  Hitch Rack - 4-Bike               4         45   \n",
       "29       Bike Racks  Hitch Rack - 4-Bike               4         45   \n",
       "...             ...                  ...             ...        ...   \n",
       "113006        Vests      Classic Vest, L               3         24   \n",
       "113007        Vests      Classic Vest, L               5         24   \n",
       "113008        Vests      Classic Vest, M              28         24   \n",
       "113009        Vests      Classic Vest, M              29         24   \n",
       "113010        Vests      Classic Vest, S              28         24   \n",
       "113011        Vests      Classic Vest, S              28         24   \n",
       "113012        Vests      Classic Vest, M              30         24   \n",
       "113013        Vests      Classic Vest, M              30         24   \n",
       "113014        Vests      Classic Vest, M               8         24   \n",
       "113015        Vests      Classic Vest, M               6         24   \n",
       "113016        Vests      Classic Vest, L              16         24   \n",
       "113017        Vests      Classic Vest, L              18         24   \n",
       "113018        Vests      Classic Vest, L              12         24   \n",
       "113019        Vests      Classic Vest, L              10         24   \n",
       "113020        Vests      Classic Vest, S              25         24   \n",
       "113021        Vests      Classic Vest, S              24         24   \n",
       "113022        Vests      Classic Vest, S              28         24   \n",
       "113023        Vests      Classic Vest, S              26         24   \n",
       "113024        Vests      Classic Vest, S              16         24   \n",
       "113025        Vests      Classic Vest, S              14         24   \n",
       "113026        Vests      Classic Vest, L              20         24   \n",
       "113027        Vests      Classic Vest, L              21         24   \n",
       "113028        Vests      Classic Vest, S               2         24   \n",
       "113029        Vests      Classic Vest, S               2         24   \n",
       "113030        Vests      Classic Vest, S               6         24   \n",
       "113031        Vests      Classic Vest, S               3         24   \n",
       "113032        Vests      Classic Vest, M              22         24   \n",
       "113033        Vests      Classic Vest, M              22         24   \n",
       "113034        Vests      Classic Vest, L              24         24   \n",
       "113035        Vests      Classic Vest, L              23         24   \n",
       "\n",
       "        Unit_Price  Profit  Cost  Revenue  \n",
       "0              120     590   360      950  \n",
       "1              120     590   360      950  \n",
       "2              120    1366  1035     2401  \n",
       "3              120    1188   900     2088  \n",
       "4              120     238   180      418  \n",
       "5              120     297   225      522  \n",
       "6              120     199   180      379  \n",
       "7              120     100    90      190  \n",
       "8              120    1096   990     2086  \n",
       "9              120    1046   945     1991  \n",
       "10             120     398   360      758  \n",
       "11             120     398   360      758  \n",
       "12             120     349   315      664  \n",
       "13             120     349   315      664  \n",
       "14             120     369   225      594  \n",
       "15             120     517   315      832  \n",
       "16             120     148    90      238  \n",
       "17             120      74    45      119  \n",
       "18             120      74    45      119  \n",
       "19             120      74    45      119  \n",
       "20             120     443   270      713  \n",
       "21             120     590   360      950  \n",
       "22             120     524   405      929  \n",
       "23             120     407   315      722  \n",
       "24             120     221   135      356  \n",
       "25             120      74    45      119  \n",
       "26             120     443   270      713  \n",
       "27             120     369   225      594  \n",
       "28             120     295   180      475  \n",
       "29             120     295   180      475  \n",
       "...            ...     ...   ...      ...  \n",
       "113006          64      85    72      157  \n",
       "113007          64     142   120      262  \n",
       "113008          64     744   672     1416  \n",
       "113009          64     770   696     1466  \n",
       "113010          64     995   672     1667  \n",
       "113011          64     995   672     1667  \n",
       "113012          64     778   720     1498  \n",
       "113013          64     778   720     1498  \n",
       "113014          64     207   192      399  \n",
       "113015          64     156   144      300  \n",
       "113016          64     497   384      881  \n",
       "113017          64     559   432      991  \n",
       "113018          64     372   288      660  \n",
       "113019          64     310   240      550  \n",
       "113020          64     968   600     1568  \n",
       "113021          64     929   576     1505  \n",
       "113022          64    1084   672     1756  \n",
       "113023          64    1007   624     1631  \n",
       "113024          64     620   384     1004  \n",
       "113025          64     542   336      878  \n",
       "113026          64     710   480     1190  \n",
       "113027          64     746   504     1250  \n",
       "113028          64      75    48      123  \n",
       "113029          64      75    48      123  \n",
       "113030          64     225   144      369  \n",
       "113031          64     112    72      184  \n",
       "113032          64     655   528     1183  \n",
       "113033          64     655   528     1183  \n",
       "113034          64     684   576     1260  \n",
       "113035          64     655   552     1207  \n",
       "\n",
       "[113036 rows x 18 columns]>"
      ]
     },
     "execution_count": 13,
     "metadata": {},
     "output_type": "execute_result"
    }
   ],
   "source": [
    "sales.head"
   ]
  },
  {
   "cell_type": "code",
   "execution_count": 17,
   "id": "f696f56b",
   "metadata": {},
   "outputs": [
    {
     "data": {
      "text/plain": [
       "<bound method NDFrame.describe of              Date  Day      Month  Year  Customer_Age             Age_Group  \\\n",
       "0      2013-11-26   26   November  2013            19           Youth (<25)   \n",
       "1      2015-11-26   26   November  2015            19           Youth (<25)   \n",
       "2      2014-03-23   23      March  2014            49        Adults (35-64)   \n",
       "3      2016-03-23   23      March  2016            49        Adults (35-64)   \n",
       "4      2014-05-15   15        May  2014            47        Adults (35-64)   \n",
       "5      2016-05-15   15        May  2016            47        Adults (35-64)   \n",
       "6      2014-05-22   22        May  2014            47        Adults (35-64)   \n",
       "7      2016-05-22   22        May  2016            47        Adults (35-64)   \n",
       "8      2014-02-22   22   February  2014            35        Adults (35-64)   \n",
       "9      2016-02-22   22   February  2016            35        Adults (35-64)   \n",
       "10     2013-07-30   30       July  2013            32  Young Adults (25-34)   \n",
       "11     2015-07-30   30       July  2015            32  Young Adults (25-34)   \n",
       "12     2013-07-15   15       July  2013            34  Young Adults (25-34)   \n",
       "13     2015-07-15   15       July  2015            34  Young Adults (25-34)   \n",
       "14     2013-08-02    2     August  2013            29  Young Adults (25-34)   \n",
       "15     2015-08-02    2     August  2015            29  Young Adults (25-34)   \n",
       "16     2013-09-02    2  September  2013            29  Young Adults (25-34)   \n",
       "17     2015-09-02    2  September  2015            29  Young Adults (25-34)   \n",
       "18     2014-01-22   22    January  2014            29  Young Adults (25-34)   \n",
       "19     2016-01-22   22    January  2016            29  Young Adults (25-34)   \n",
       "20     2014-05-17   17        May  2014            29  Young Adults (25-34)   \n",
       "21     2016-05-17   17        May  2016            29  Young Adults (25-34)   \n",
       "22     2014-03-27   27      March  2014            51        Adults (35-64)   \n",
       "23     2016-03-27   27      March  2016            51        Adults (35-64)   \n",
       "24     2013-08-25   25     August  2013            49        Adults (35-64)   \n",
       "25     2015-08-25   25     August  2015            49        Adults (35-64)   \n",
       "26     2013-12-26   26   December  2013            49        Adults (35-64)   \n",
       "27     2015-12-26   26   December  2015            49        Adults (35-64)   \n",
       "28     2014-01-02    2    January  2014            48        Adults (35-64)   \n",
       "29     2016-01-02    2    January  2016            48        Adults (35-64)   \n",
       "...           ...  ...        ...   ...           ...                   ...   \n",
       "113006 2014-03-28   28      March  2014            28  Young Adults (25-34)   \n",
       "113007 2016-03-28   28      March  2016            28  Young Adults (25-34)   \n",
       "113008 2014-01-18   18    January  2014            32  Young Adults (25-34)   \n",
       "113009 2016-01-18   18    January  2016            32  Young Adults (25-34)   \n",
       "113010 2014-04-10   10      April  2014            25  Young Adults (25-34)   \n",
       "113011 2016-04-10   10      April  2016            25  Young Adults (25-34)   \n",
       "113012 2013-09-16   16  September  2013            20           Youth (<25)   \n",
       "113013 2015-09-16   16  September  2015            20           Youth (<25)   \n",
       "113014 2013-12-10   10   December  2013            20           Youth (<25)   \n",
       "113015 2015-12-10   10   December  2015            20           Youth (<25)   \n",
       "113016 2013-10-04    4    October  2013            20           Youth (<25)   \n",
       "113017 2015-10-04    4    October  2015            20           Youth (<25)   \n",
       "113018 2014-07-30   30       July  2014            33  Young Adults (25-34)   \n",
       "113019 2016-07-30   30       July  2016            33  Young Adults (25-34)   \n",
       "113020 2013-10-02    2    October  2013            34  Young Adults (25-34)   \n",
       "113021 2015-10-02    2    October  2015            34  Young Adults (25-34)   \n",
       "113022 2014-03-20   20      March  2014            34  Young Adults (25-34)   \n",
       "113023 2016-03-20   20      March  2016            34  Young Adults (25-34)   \n",
       "113024 2014-04-03    3      April  2014            34  Young Adults (25-34)   \n",
       "113025 2016-04-03    3      April  2016            34  Young Adults (25-34)   \n",
       "113026 2013-07-08    8       July  2013            29  Young Adults (25-34)   \n",
       "113027 2015-07-08    8       July  2015            29  Young Adults (25-34)   \n",
       "113028 2013-12-28   28   December  2013            41        Adults (35-64)   \n",
       "113029 2015-12-28   28   December  2015            41        Adults (35-64)   \n",
       "113030 2014-04-12   12      April  2014            41        Adults (35-64)   \n",
       "113031 2016-04-12   12      April  2016            41        Adults (35-64)   \n",
       "113032 2014-04-02    2      April  2014            18           Youth (<25)   \n",
       "113033 2016-04-02    2      April  2016            18           Youth (<25)   \n",
       "113034 2014-03-04    4      March  2014            37        Adults (35-64)   \n",
       "113035 2016-03-04    4      March  2016            37        Adults (35-64)   \n",
       "\n",
       "       Customer_Gender         Country             State Product_Category  \\\n",
       "0                    M          Canada  British Columbia      Accessories   \n",
       "1                    M          Canada  British Columbia      Accessories   \n",
       "2                    M       Australia   New South Wales      Accessories   \n",
       "3                    M       Australia   New South Wales      Accessories   \n",
       "4                    F       Australia   New South Wales      Accessories   \n",
       "5                    F       Australia   New South Wales      Accessories   \n",
       "6                    F       Australia          Victoria      Accessories   \n",
       "7                    F       Australia          Victoria      Accessories   \n",
       "8                    M       Australia          Victoria      Accessories   \n",
       "9                    M       Australia          Victoria      Accessories   \n",
       "10                   F       Australia          Victoria      Accessories   \n",
       "11                   F       Australia          Victoria      Accessories   \n",
       "12                   M       Australia          Victoria      Accessories   \n",
       "13                   M       Australia          Victoria      Accessories   \n",
       "14                   M          Canada  British Columbia      Accessories   \n",
       "15                   M          Canada  British Columbia      Accessories   \n",
       "16                   M          Canada  British Columbia      Accessories   \n",
       "17                   M          Canada  British Columbia      Accessories   \n",
       "18                   M          Canada  British Columbia      Accessories   \n",
       "19                   M          Canada  British Columbia      Accessories   \n",
       "20                   M          Canada  British Columbia      Accessories   \n",
       "21                   M          Canada  British Columbia      Accessories   \n",
       "22                   M   United States            Oregon      Accessories   \n",
       "23                   M   United States            Oregon      Accessories   \n",
       "24                   M          Canada  British Columbia      Accessories   \n",
       "25                   M          Canada  British Columbia      Accessories   \n",
       "26                   M          Canada  British Columbia      Accessories   \n",
       "27                   M          Canada  British Columbia      Accessories   \n",
       "28                   F          Canada  British Columbia      Accessories   \n",
       "29                   F          Canada  British Columbia      Accessories   \n",
       "...                ...             ...               ...              ...   \n",
       "113006               F         Germany          Saarland         Clothing   \n",
       "113007               F         Germany          Saarland         Clothing   \n",
       "113008               F       Australia          Victoria         Clothing   \n",
       "113009               F       Australia          Victoria         Clothing   \n",
       "113010               M         Germany           Hamburg         Clothing   \n",
       "113011               M         Germany           Hamburg         Clothing   \n",
       "113012               F   United States        Washington         Clothing   \n",
       "113013               F   United States        Washington         Clothing   \n",
       "113014               F   United States        Washington         Clothing   \n",
       "113015               F   United States        Washington         Clothing   \n",
       "113016               M   United States            Oregon         Clothing   \n",
       "113017               M   United States            Oregon         Clothing   \n",
       "113018               M   United States            Oregon         Clothing   \n",
       "113019               M   United States            Oregon         Clothing   \n",
       "113020               M   United States        California         Clothing   \n",
       "113021               M   United States        California         Clothing   \n",
       "113022               M   United States        California         Clothing   \n",
       "113023               M   United States        California         Clothing   \n",
       "113024               M   United States        California         Clothing   \n",
       "113025               M   United States        California         Clothing   \n",
       "113026               M         Germany            Hessen         Clothing   \n",
       "113027               M         Germany            Hessen         Clothing   \n",
       "113028               M  United Kingdom           England         Clothing   \n",
       "113029               M  United Kingdom           England         Clothing   \n",
       "113030               M  United Kingdom           England         Clothing   \n",
       "113031               M  United Kingdom           England         Clothing   \n",
       "113032               M       Australia        Queensland         Clothing   \n",
       "113033               M       Australia        Queensland         Clothing   \n",
       "113034               F          France     Seine (Paris)         Clothing   \n",
       "113035               F          France     Seine (Paris)         Clothing   \n",
       "\n",
       "       Sub_Category              Product  Order_Quantity  Unit_Cost  \\\n",
       "0        Bike Racks  Hitch Rack - 4-Bike               8         45   \n",
       "1        Bike Racks  Hitch Rack - 4-Bike               8         45   \n",
       "2        Bike Racks  Hitch Rack - 4-Bike              23         45   \n",
       "3        Bike Racks  Hitch Rack - 4-Bike              20         45   \n",
       "4        Bike Racks  Hitch Rack - 4-Bike               4         45   \n",
       "5        Bike Racks  Hitch Rack - 4-Bike               5         45   \n",
       "6        Bike Racks  Hitch Rack - 4-Bike               4         45   \n",
       "7        Bike Racks  Hitch Rack - 4-Bike               2         45   \n",
       "8        Bike Racks  Hitch Rack - 4-Bike              22         45   \n",
       "9        Bike Racks  Hitch Rack - 4-Bike              21         45   \n",
       "10       Bike Racks  Hitch Rack - 4-Bike               8         45   \n",
       "11       Bike Racks  Hitch Rack - 4-Bike               8         45   \n",
       "12       Bike Racks  Hitch Rack - 4-Bike               7         45   \n",
       "13       Bike Racks  Hitch Rack - 4-Bike               7         45   \n",
       "14       Bike Racks  Hitch Rack - 4-Bike               5         45   \n",
       "15       Bike Racks  Hitch Rack - 4-Bike               7         45   \n",
       "16       Bike Racks  Hitch Rack - 4-Bike               2         45   \n",
       "17       Bike Racks  Hitch Rack - 4-Bike               1         45   \n",
       "18       Bike Racks  Hitch Rack - 4-Bike               1         45   \n",
       "19       Bike Racks  Hitch Rack - 4-Bike               1         45   \n",
       "20       Bike Racks  Hitch Rack - 4-Bike               6         45   \n",
       "21       Bike Racks  Hitch Rack - 4-Bike               8         45   \n",
       "22       Bike Racks  Hitch Rack - 4-Bike               9         45   \n",
       "23       Bike Racks  Hitch Rack - 4-Bike               7         45   \n",
       "24       Bike Racks  Hitch Rack - 4-Bike               3         45   \n",
       "25       Bike Racks  Hitch Rack - 4-Bike               1         45   \n",
       "26       Bike Racks  Hitch Rack - 4-Bike               6         45   \n",
       "27       Bike Racks  Hitch Rack - 4-Bike               5         45   \n",
       "28       Bike Racks  Hitch Rack - 4-Bike               4         45   \n",
       "29       Bike Racks  Hitch Rack - 4-Bike               4         45   \n",
       "...             ...                  ...             ...        ...   \n",
       "113006        Vests      Classic Vest, L               3         24   \n",
       "113007        Vests      Classic Vest, L               5         24   \n",
       "113008        Vests      Classic Vest, M              28         24   \n",
       "113009        Vests      Classic Vest, M              29         24   \n",
       "113010        Vests      Classic Vest, S              28         24   \n",
       "113011        Vests      Classic Vest, S              28         24   \n",
       "113012        Vests      Classic Vest, M              30         24   \n",
       "113013        Vests      Classic Vest, M              30         24   \n",
       "113014        Vests      Classic Vest, M               8         24   \n",
       "113015        Vests      Classic Vest, M               6         24   \n",
       "113016        Vests      Classic Vest, L              16         24   \n",
       "113017        Vests      Classic Vest, L              18         24   \n",
       "113018        Vests      Classic Vest, L              12         24   \n",
       "113019        Vests      Classic Vest, L              10         24   \n",
       "113020        Vests      Classic Vest, S              25         24   \n",
       "113021        Vests      Classic Vest, S              24         24   \n",
       "113022        Vests      Classic Vest, S              28         24   \n",
       "113023        Vests      Classic Vest, S              26         24   \n",
       "113024        Vests      Classic Vest, S              16         24   \n",
       "113025        Vests      Classic Vest, S              14         24   \n",
       "113026        Vests      Classic Vest, L              20         24   \n",
       "113027        Vests      Classic Vest, L              21         24   \n",
       "113028        Vests      Classic Vest, S               2         24   \n",
       "113029        Vests      Classic Vest, S               2         24   \n",
       "113030        Vests      Classic Vest, S               6         24   \n",
       "113031        Vests      Classic Vest, S               3         24   \n",
       "113032        Vests      Classic Vest, M              22         24   \n",
       "113033        Vests      Classic Vest, M              22         24   \n",
       "113034        Vests      Classic Vest, L              24         24   \n",
       "113035        Vests      Classic Vest, L              23         24   \n",
       "\n",
       "        Unit_Price  Profit  Cost  Revenue  \n",
       "0              120     590   360      950  \n",
       "1              120     590   360      950  \n",
       "2              120    1366  1035     2401  \n",
       "3              120    1188   900     2088  \n",
       "4              120     238   180      418  \n",
       "5              120     297   225      522  \n",
       "6              120     199   180      379  \n",
       "7              120     100    90      190  \n",
       "8              120    1096   990     2086  \n",
       "9              120    1046   945     1991  \n",
       "10             120     398   360      758  \n",
       "11             120     398   360      758  \n",
       "12             120     349   315      664  \n",
       "13             120     349   315      664  \n",
       "14             120     369   225      594  \n",
       "15             120     517   315      832  \n",
       "16             120     148    90      238  \n",
       "17             120      74    45      119  \n",
       "18             120      74    45      119  \n",
       "19             120      74    45      119  \n",
       "20             120     443   270      713  \n",
       "21             120     590   360      950  \n",
       "22             120     524   405      929  \n",
       "23             120     407   315      722  \n",
       "24             120     221   135      356  \n",
       "25             120      74    45      119  \n",
       "26             120     443   270      713  \n",
       "27             120     369   225      594  \n",
       "28             120     295   180      475  \n",
       "29             120     295   180      475  \n",
       "...            ...     ...   ...      ...  \n",
       "113006          64      85    72      157  \n",
       "113007          64     142   120      262  \n",
       "113008          64     744   672     1416  \n",
       "113009          64     770   696     1466  \n",
       "113010          64     995   672     1667  \n",
       "113011          64     995   672     1667  \n",
       "113012          64     778   720     1498  \n",
       "113013          64     778   720     1498  \n",
       "113014          64     207   192      399  \n",
       "113015          64     156   144      300  \n",
       "113016          64     497   384      881  \n",
       "113017          64     559   432      991  \n",
       "113018          64     372   288      660  \n",
       "113019          64     310   240      550  \n",
       "113020          64     968   600     1568  \n",
       "113021          64     929   576     1505  \n",
       "113022          64    1084   672     1756  \n",
       "113023          64    1007   624     1631  \n",
       "113024          64     620   384     1004  \n",
       "113025          64     542   336      878  \n",
       "113026          64     710   480     1190  \n",
       "113027          64     746   504     1250  \n",
       "113028          64      75    48      123  \n",
       "113029          64      75    48      123  \n",
       "113030          64     225   144      369  \n",
       "113031          64     112    72      184  \n",
       "113032          64     655   528     1183  \n",
       "113033          64     655   528     1183  \n",
       "113034          64     684   576     1260  \n",
       "113035          64     655   552     1207  \n",
       "\n",
       "[113036 rows x 18 columns]>"
      ]
     },
     "execution_count": 17,
     "metadata": {},
     "output_type": "execute_result"
    }
   ],
   "source": [
    "sales.describe"
   ]
  },
  {
   "cell_type": "code",
   "execution_count": 20,
   "id": "7b8a5dd1",
   "metadata": {},
   "outputs": [
    {
     "data": {
      "text/plain": [
       "35.91921157861212"
      ]
     },
     "execution_count": 20,
     "metadata": {},
     "output_type": "execute_result"
    }
   ],
   "source": [
    "sales['Customer_Age'].mean()"
   ]
  },
  {
   "cell_type": "code",
   "execution_count": 24,
   "id": "f574c67c",
   "metadata": {},
   "outputs": [],
   "source": [
    "sales_customer_age = sales['Customer_Age']"
   ]
  },
  {
   "cell_type": "code",
   "execution_count": 30,
   "id": "6270d72e",
   "metadata": {},
   "outputs": [
    {
     "data": {
      "text/plain": [
       "[<matplotlib.lines.Line2D at 0x7ff4b52e1bd0>]"
      ]
     },
     "execution_count": 30,
     "metadata": {},
     "output_type": "execute_result"
    },
    {
     "data": {
      "image/png": "[encoded data removed]",
      "text/plain": [
       "<Figure size 432x288 with 1 Axes>"
      ]
     },
     "metadata": {
      "needs_background": "light"
     },
     "output_type": "display_data"
    }
   ],
   "source": [
    "plt.plot(sales['Customer_Age'])"
   ]
  },
  {
   "cell_type": "code",
   "execution_count": 31,
   "id": "12254a51",
   "metadata": {},
   "outputs": [
    {
     "data": {
      "text/plain": [
       "11.901659648253654"
      ]
     },
     "execution_count": 31,
     "metadata": {},
     "output_type": "execute_result"
    }
   ],
   "source": [
    "sales['Order_Quantity'].mean()"
   ]
  },
  {
   "cell_type": "code",
   "execution_count": 32,
   "id": "3fd7f959",
   "metadata": {},
   "outputs": [
    {
     "data": {
      "text/plain": [
       "2016    29398\n",
       "2014    29398\n",
       "2015    24443\n",
       "2013    24443\n",
       "2012     2677\n",
       "2011     2677\n",
       "Name: Year, dtype: int64"
      ]
     },
     "execution_count": 32,
     "metadata": {},
     "output_type": "execute_result"
    }
   ],
   "source": [
    "sales['Year'].value_counts()"
   ]
  },
  {
   "cell_type": "code",
   "execution_count": 33,
   "id": "f0822ecd",
   "metadata": {},
   "outputs": [
    {
     "data": {
      "text/plain": [
       "[<matplotlib.lines.Line2D at 0x7ff4b5265150>]"
      ]
     },
     "execution_count": 33,
     "metadata": {},
     "output_type": "execute_result"
    },
    {
     "data": {
      "image/png": "[encoded data removed]",
      "text/plain": [
       "<Figure size 432x288 with 1 Axes>"
      ]
     },
     "metadata": {
      "needs_background": "light"
     },
     "output_type": "display_data"
    }
   ],
   "source": [
    "plt.plot(sales['Year'])"
   ]
  },
  {
   "cell_type": "code",
   "execution_count": 34,
   "id": "e5ebdb1d",
   "metadata": {},
   "outputs": [
    {
     "data": {
      "text/plain": [
       "(array([ 2677.,     0.,  2677.,     0., 24443.,     0., 29398.,     0.,\n",
       "        24443., 29398.]),\n",
       " array([2011. , 2011.5, 2012. , 2012.5, 2013. , 2013.5, 2014. , 2014.5,\n",
       "        2015. , 2015.5, 2016. ]),\n",
       " <BarContainer object of 10 artists>)"
      ]
     },
     "execution_count": 34,
     "metadata": {},
     "output_type": "execute_result"
    },
    {
     "data": {
      "image/png": "[encoded data removed]",
      "text/plain": [
       "<Figure size 432x288 with 1 Axes>"
      ]
     },
     "metadata": {
      "needs_background": "light"
     },
     "output_type": "display_data"
    }
   ],
   "source": [
    "plt.hist(sales['Year'])"
   ]
  },
  {
   "cell_type": "code",
   "execution_count": 35,
   "id": "7685873f",
   "metadata": {},
   "outputs": [
    {
     "data": {
      "text/plain": [
       "June         11234\n",
       "December     11200\n",
       "May          11128\n",
       "April        10182\n",
       "March         9674\n",
       "January       9284\n",
       "February      9022\n",
       "October       8750\n",
       "November      8734\n",
       "August        8200\n",
       "September     8166\n",
       "July          7462\n",
       "Name: Month, dtype: int64"
      ]
     },
     "execution_count": 35,
     "metadata": {},
     "output_type": "execute_result"
    }
   ],
   "source": [
    "sales['Month'].value_counts()"
   ]
  },
  {
   "cell_type": "code",
   "execution_count": 36,
   "id": "e9d957cb",
   "metadata": {},
   "outputs": [
    {
     "data": {
      "text/plain": [
       "(array([18408., 11128.,  9022.,  7462.,  8200.,  8166.,  9284., 11200.,\n",
       "        11234., 18932.]),\n",
       " array([ 0. ,  1.1,  2.2,  3.3,  4.4,  5.5,  6.6,  7.7,  8.8,  9.9, 11. ]),\n",
       " <BarContainer object of 10 artists>)"
      ]
     },
     "execution_count": 36,
     "metadata": {},
     "output_type": "execute_result"
    },
    {
     "data": {
      "image/png": "[encoded data removed]",
      "text/plain": [
       "<Figure size 432x288 with 1 Axes>"
      ]
     },
     "metadata": {
      "needs_background": "light"
     },
     "output_type": "display_data"
    }
   ],
   "source": [
    "plt.hist(sales['Month'])"
   ]
  },
  {
   "cell_type": "code",
   "execution_count": 40,
   "id": "dbe7092d",
   "metadata": {},
   "outputs": [
    {
     "data": {
      "text/plain": [
       "2016    29398\n",
       "Name: Year, dtype: int64"
      ]
     },
     "execution_count": 40,
     "metadata": {},
     "output_type": "execute_result"
    }
   ],
   "source": [
    "sales['Year'].value_counts().head(1)"
   ]
  },
  {
   "cell_type": "code",
   "execution_count": 47,
   "id": "c2695327",
   "metadata": {},
   "outputs": [
    {
     "data": {
      "text/plain": [
       "<matplotlib.collections.PathCollection at 0x7ff4b53a2310>"
      ]
     },
     "execution_count": 47,
     "metadata": {},
     "output_type": "execute_result"
    },
    {
     "data": {
      "image/png": "[encoded data removed]",
      "text/plain": [
       "<Figure size 432x288 with 1 Axes>"
      ]
     },
     "metadata": {
      "needs_background": "light"
     },
     "output_type": "display_data"
    }
   ],
   "source": [
    "plt.scatter(sales['Order_Quantity'],sales['Profit'])"
   ]
  },
  {
   "cell_type": "code",
   "execution_count": 48,
   "id": "796ecf9b",
   "metadata": {},
   "outputs": [
    {
     "data": {
      "text/plain": [
       "0          590\n",
       "1          590\n",
       "2         1366\n",
       "3         1188\n",
       "4          238\n",
       "5          297\n",
       "6          199\n",
       "7          100\n",
       "8         1096\n",
       "9         1046\n",
       "10         398\n",
       "11         398\n",
       "12         349\n",
       "13         349\n",
       "14         369\n",
       "15         517\n",
       "16         148\n",
       "17          74\n",
       "18          74\n",
       "19          74\n",
       "20         443\n",
       "21         590\n",
       "22         524\n",
       "23         407\n",
       "24         221\n",
       "25          74\n",
       "26         443\n",
       "27         369\n",
       "28         295\n",
       "29         295\n",
       "          ... \n",
       "113006      85\n",
       "113007     142\n",
       "113008     744\n",
       "113009     770\n",
       "113010     995\n",
       "113011     995\n",
       "113012     778\n",
       "113013     778\n",
       "113014     207\n",
       "113015     156\n",
       "113016     497\n",
       "113017     559\n",
       "113018     372\n",
       "113019     310\n",
       "113020     968\n",
       "113021     929\n",
       "113022    1084\n",
       "113023    1007\n",
       "113024     620\n",
       "113025     542\n",
       "113026     710\n",
       "113027     746\n",
       "113028      75\n",
       "113029      75\n",
       "113030     225\n",
       "113031     112\n",
       "113032     655\n",
       "113033     655\n",
       "113034     684\n",
       "113035     655\n",
       "Name: Profit, Length: 113036, dtype: int64"
      ]
     },
     "execution_count": 48,
     "metadata": {},
     "output_type": "execute_result"
    }
   ],
   "source": [
    "sales['Profit']"
   ]
  },
  {
   "cell_type": "code",
   "execution_count": 49,
   "id": "de11a41c",
   "metadata": {},
   "outputs": [
    {
     "data": {
      "text/plain": [
       "<AxesSubplot:title={'center':'Profit'}, xlabel='[Country]'>"
      ]
     },
     "execution_count": 49,
     "metadata": {},
     "output_type": "execute_result"
    },
    {
     "data": {
      "image/png": "[encoded data removed]",
      "text/plain": [
       "<Figure size 720x432 with 1 Axes>"
      ]
     },
     "metadata": {
      "needs_background": "light"
     },
     "output_type": "display_data"
    }
   ],
   "source": [
    "sales[['Profit', 'Country']].boxplot(by='Country', figsize=(10,6))"
   ]
  },
  {
   "cell_type": "code",
   "execution_count": 52,
   "id": "78712809",
   "metadata": {},
   "outputs": [
    {
     "data": {
      "text/plain": [
       "104"
      ]
     },
     "execution_count": 52,
     "metadata": {},
     "output_type": "execute_result"
    }
   ],
   "source": [
    "sales.loc[(sales['Country'] == 'Canada') & (sales['Sub_Category'] == 'Bike Racks')].shape[0]"
   ]
  },
  {
   "cell_type": "code",
   "execution_count": 53,
   "id": "3d524956",
   "metadata": {},
   "outputs": [
    {
     "data": {
      "text/plain": [
       "Seine (Paris)        2328\n",
       "Seine Saint Denis    1684\n",
       "Nord                 1670\n",
       "Hauts de Seine       1084\n",
       "Essonne               994\n",
       "Yveline               954\n",
       "Seine et Marne        394\n",
       "Moselle               386\n",
       "Loiret                382\n",
       "Val d'Oise            264\n",
       "Garonne (Haute)       208\n",
       "Val de Marne          158\n",
       "Charente-Maritime     148\n",
       "Somme                 134\n",
       "Loir et Cher          120\n",
       "Pas de Calais          90\n",
       "Name: State, dtype: int64"
      ]
     },
     "execution_count": 53,
     "metadata": {},
     "output_type": "execute_result"
    }
   ],
   "source": [
    "france_states = sales.loc[sales['Country'] == 'France', 'State'].value_counts()\n",
    "\n",
    "france_states\n"
   ]
  },
  {
   "cell_type": "code",
   "execution_count": 54,
   "id": "4e08730a",
   "metadata": {},
   "outputs": [
    {
     "data": {
      "text/plain": [
       "Accessories    70120\n",
       "Bikes          25982\n",
       "Clothing       16934\n",
       "Name: Product_Category, dtype: int64"
      ]
     },
     "execution_count": 54,
     "metadata": {},
     "output_type": "execute_result"
    }
   ],
   "source": [
    "sales['Product_Category'].value_counts()"
   ]
  },
  {
   "cell_type": "code",
   "execution_count": 55,
   "id": "9f5071e8",
   "metadata": {},
   "outputs": [
    {
     "data": {
      "text/plain": [
       "0         Accessories\n",
       "1         Accessories\n",
       "2         Accessories\n",
       "3         Accessories\n",
       "4         Accessories\n",
       "5         Accessories\n",
       "6         Accessories\n",
       "7         Accessories\n",
       "8         Accessories\n",
       "9         Accessories\n",
       "10        Accessories\n",
       "11        Accessories\n",
       "12        Accessories\n",
       "13        Accessories\n",
       "14        Accessories\n",
       "15        Accessories\n",
       "16        Accessories\n",
       "17        Accessories\n",
       "18        Accessories\n",
       "19        Accessories\n",
       "20        Accessories\n",
       "21        Accessories\n",
       "22        Accessories\n",
       "23        Accessories\n",
       "24        Accessories\n",
       "25        Accessories\n",
       "26        Accessories\n",
       "27        Accessories\n",
       "28        Accessories\n",
       "29        Accessories\n",
       "             ...     \n",
       "113006       Clothing\n",
       "113007       Clothing\n",
       "113008       Clothing\n",
       "113009       Clothing\n",
       "113010       Clothing\n",
       "113011       Clothing\n",
       "113012       Clothing\n",
       "113013       Clothing\n",
       "113014       Clothing\n",
       "113015       Clothing\n",
       "113016       Clothing\n",
       "113017       Clothing\n",
       "113018       Clothing\n",
       "113019       Clothing\n",
       "113020       Clothing\n",
       "113021       Clothing\n",
       "113022       Clothing\n",
       "113023       Clothing\n",
       "113024       Clothing\n",
       "113025       Clothing\n",
       "113026       Clothing\n",
       "113027       Clothing\n",
       "113028       Clothing\n",
       "113029       Clothing\n",
       "113030       Clothing\n",
       "113031       Clothing\n",
       "113032       Clothing\n",
       "113033       Clothing\n",
       "113034       Clothing\n",
       "113035       Clothing\n",
       "Name: Product_Category, Length: 113036, dtype: object"
      ]
     },
     "execution_count": 55,
     "metadata": {},
     "output_type": "execute_result"
    }
   ],
   "source": [
    "sales['Product_Category']"
   ]
  }
 ],
 "metadata": {
  "kernelspec": {
   "display_name": "Python 3 (ipykernel)",
   "language": "python",
   "name": "python3"
  },
  "language_info": {
   "codemirror_mode": {
    "name": "ipython",
    "version": 3
   },
   "file_extension": ".py",
   "mimetype": "text/x-python",
   "name": "python",
   "nbconvert_exporter": "python",
   "pygments_lexer": "ipython3",
   "version": "3.7.16"
  }
 },
 "nbformat": 4,
 "nbformat_minor": 5
}
