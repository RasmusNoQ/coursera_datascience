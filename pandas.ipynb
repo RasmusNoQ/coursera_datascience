{
 "cells": [
  {
   "cell_type": "code",
   "execution_count": 4,
   "id": "9597d05f",
   "metadata": {},
   "outputs": [],
   "source": [
    "import numpy as np\n",
    "import pandas as pd"
   ]
  },
  {
   "cell_type": "code",
   "execution_count": 5,
   "id": "09917a7f",
   "metadata": {},
   "outputs": [],
   "source": [
    "s1 = pd.Series(np.random.rand(4),index=['a','b','c','d'])"
   ]
  },
  {
   "cell_type": "code",
   "execution_count": 6,
   "id": "553de3a9",
   "metadata": {},
   "outputs": [
    {
     "data": {
      "text/plain": [
       "array([0.42838506, 0.31076196, 0.53780123, 0.01418616])"
      ]
     },
     "execution_count": 6,
     "metadata": {},
     "output_type": "execute_result"
    }
   ],
   "source": [
    "s1.values"
   ]
  },
  {
   "cell_type": "code",
   "execution_count": 4,
   "id": "17cebf01",
   "metadata": {},
   "outputs": [],
   "source": [
    "s2 = pd.Series(np.random.rand(4))"
   ]
  },
  {
   "cell_type": "code",
   "execution_count": 5,
   "id": "0d4a096a",
   "metadata": {},
   "outputs": [
    {
     "data": {
      "text/plain": [
       "0    0.207859\n",
       "1    0.934198\n",
       "2    0.959841\n",
       "3    0.238483\n",
       "dtype: float64"
      ]
     },
     "execution_count": 5,
     "metadata": {},
     "output_type": "execute_result"
    }
   ],
   "source": [
    "s2"
   ]
  },
  {
   "cell_type": "code",
   "execution_count": 6,
   "id": "46c72143",
   "metadata": {},
   "outputs": [
    {
     "data": {
      "text/plain": [
       "0.15432518380697058"
      ]
     },
     "execution_count": 6,
     "metadata": {},
     "output_type": "execute_result"
    }
   ],
   "source": [
    "s1['c']"
   ]
  },
  {
   "cell_type": "code",
   "execution_count": 8,
   "id": "ba21cfa3",
   "metadata": {},
   "outputs": [
    {
     "data": {
      "text/plain": [
       "a    0.510953\n",
       "b    0.380865\n",
       "c    0.154325\n",
       "d    0.893130\n",
       "dtype: float64"
      ]
     },
     "execution_count": 8,
     "metadata": {},
     "output_type": "execute_result"
    }
   ],
   "source": [
    "s1"
   ]
  },
  {
   "cell_type": "code",
   "execution_count": 9,
   "id": "7535bbd3",
   "metadata": {},
   "outputs": [],
   "source": [
    "s3 = pd.Series({'001':'Nam','002':'Mary','003':'Peter'})"
   ]
  },
  {
   "cell_type": "code",
   "execution_count": 10,
   "id": "775ab35c",
   "metadata": {},
   "outputs": [
    {
     "data": {
      "text/plain": [
       "001      Nam\n",
       "002     Mary\n",
       "003    Peter\n",
       "dtype: object"
      ]
     },
     "execution_count": 10,
     "metadata": {},
     "output_type": "execute_result"
    }
   ],
   "source": [
    "s3"
   ]
  },
  {
   "cell_type": "code",
   "execution_count": 11,
   "id": "e89318e2",
   "metadata": {},
   "outputs": [],
   "source": [
    "s4 = pd.Series({'001':'Nam','002':'Mary','003':'Peter'},index=['002','001','024','065'])"
   ]
  },
  {
   "cell_type": "code",
   "execution_count": 12,
   "id": "d9170dad",
   "metadata": {},
   "outputs": [
    {
     "data": {
      "text/plain": [
       "002    Mary\n",
       "001     Nam\n",
       "024     NaN\n",
       "065     NaN\n",
       "dtype: object"
      ]
     },
     "execution_count": 12,
     "metadata": {},
     "output_type": "execute_result"
    }
   ],
   "source": [
    "s4"
   ]
  },
  {
   "cell_type": "code",
   "execution_count": 13,
   "id": "53fc3bb3",
   "metadata": {},
   "outputs": [
    {
     "data": {
      "text/plain": [
       "002    False\n",
       "001    False\n",
       "024     True\n",
       "065     True\n",
       "dtype: bool"
      ]
     },
     "execution_count": 13,
     "metadata": {},
     "output_type": "execute_result"
    }
   ],
   "source": [
    "pd.isnull(s4) #detect missing data"
   ]
  },
  {
   "cell_type": "code",
   "execution_count": 22,
   "id": "7322c294",
   "metadata": {},
   "outputs": [],
   "source": [
    "s6 = pd.Series(np.array([2.71,3.14]),index=['z','y'])"
   ]
  },
  {
   "cell_type": "code",
   "execution_count": 23,
   "id": "8c1508fa",
   "metadata": {},
   "outputs": [
    {
     "data": {
      "text/plain": [
       "z    2.71\n",
       "y    3.14\n",
       "dtype: float64"
      ]
     },
     "execution_count": 23,
     "metadata": {},
     "output_type": "execute_result"
    }
   ],
   "source": [
    "s6"
   ]
  },
  {
   "cell_type": "code",
   "execution_count": 24,
   "id": "9ebce0df",
   "metadata": {},
   "outputs": [],
   "source": [
    "data = {'Year':[2000,2005,2010,2014],\n",
    "       'Median_Age':[24.2,26.4,28.5,30.3],\n",
    "       'Density':[244,256,268,279]}"
   ]
  },
  {
   "cell_type": "code",
   "execution_count": 25,
   "id": "455e4e89",
   "metadata": {},
   "outputs": [],
   "source": [
    "df1 = pd.DataFrame(data)"
   ]
  },
  {
   "cell_type": "code",
   "execution_count": 26,
   "id": "fc0e25e3",
   "metadata": {},
   "outputs": [
    {
     "data": {
      "text/html": [
       "<div>\n",
       "<style scoped>\n",
       "    .dataframe tbody tr th:only-of-type {\n",
       "        vertical-align: middle;\n",
       "    }\n",
       "\n",
       "    .dataframe tbody tr th {\n",
       "        vertical-align: top;\n",
       "    }\n",
       "\n",
       "    .dataframe thead th {\n",
       "        text-align: right;\n",
       "    }\n",
       "</style>\n",
       "<table border=\"1\" class=\"dataframe\">\n",
       "  <thead>\n",
       "    <tr style=\"text-align: right;\">\n",
       "      <th></th>\n",
       "      <th>Year</th>\n",
       "      <th>Median_Age</th>\n",
       "      <th>Density</th>\n",
       "    </tr>\n",
       "  </thead>\n",
       "  <tbody>\n",
       "    <tr>\n",
       "      <th>0</th>\n",
       "      <td>2000</td>\n",
       "      <td>24.2</td>\n",
       "      <td>244</td>\n",
       "    </tr>\n",
       "    <tr>\n",
       "      <th>1</th>\n",
       "      <td>2005</td>\n",
       "      <td>26.4</td>\n",
       "      <td>256</td>\n",
       "    </tr>\n",
       "    <tr>\n",
       "      <th>2</th>\n",
       "      <td>2010</td>\n",
       "      <td>28.5</td>\n",
       "      <td>268</td>\n",
       "    </tr>\n",
       "    <tr>\n",
       "      <th>3</th>\n",
       "      <td>2014</td>\n",
       "      <td>30.3</td>\n",
       "      <td>279</td>\n",
       "    </tr>\n",
       "  </tbody>\n",
       "</table>\n",
       "</div>"
      ],
      "text/plain": [
       "   Year  Median_Age  Density\n",
       "0  2000        24.2      244\n",
       "1  2005        26.4      256\n",
       "2  2010        28.5      268\n",
       "3  2014        30.3      279"
      ]
     },
     "execution_count": 26,
     "metadata": {},
     "output_type": "execute_result"
    }
   ],
   "source": [
    "df1"
   ]
  },
  {
   "cell_type": "code",
   "execution_count": 27,
   "id": "07f97239",
   "metadata": {},
   "outputs": [],
   "source": [
    "df2 = pd.DataFrame(data,columns=['Year','Density','Median_Age'])"
   ]
  },
  {
   "cell_type": "code",
   "execution_count": 28,
   "id": "f1823cbc",
   "metadata": {},
   "outputs": [
    {
     "data": {
      "text/html": [
       "<div>\n",
       "<style scoped>\n",
       "    .dataframe tbody tr th:only-of-type {\n",
       "        vertical-align: middle;\n",
       "    }\n",
       "\n",
       "    .dataframe tbody tr th {\n",
       "        vertical-align: top;\n",
       "    }\n",
       "\n",
       "    .dataframe thead th {\n",
       "        text-align: right;\n",
       "    }\n",
       "</style>\n",
       "<table border=\"1\" class=\"dataframe\">\n",
       "  <thead>\n",
       "    <tr style=\"text-align: right;\">\n",
       "      <th></th>\n",
       "      <th>Year</th>\n",
       "      <th>Density</th>\n",
       "      <th>Median_Age</th>\n",
       "    </tr>\n",
       "  </thead>\n",
       "  <tbody>\n",
       "    <tr>\n",
       "      <th>0</th>\n",
       "      <td>2000</td>\n",
       "      <td>244</td>\n",
       "      <td>24.2</td>\n",
       "    </tr>\n",
       "    <tr>\n",
       "      <th>1</th>\n",
       "      <td>2005</td>\n",
       "      <td>256</td>\n",
       "      <td>26.4</td>\n",
       "    </tr>\n",
       "    <tr>\n",
       "      <th>2</th>\n",
       "      <td>2010</td>\n",
       "      <td>268</td>\n",
       "      <td>28.5</td>\n",
       "    </tr>\n",
       "    <tr>\n",
       "      <th>3</th>\n",
       "      <td>2014</td>\n",
       "      <td>279</td>\n",
       "      <td>30.3</td>\n",
       "    </tr>\n",
       "  </tbody>\n",
       "</table>\n",
       "</div>"
      ],
      "text/plain": [
       "   Year  Density  Median_Age\n",
       "0  2000      244        24.2\n",
       "1  2005      256        26.4\n",
       "2  2010      268        28.5\n",
       "3  2014      279        30.3"
      ]
     },
     "execution_count": 28,
     "metadata": {},
     "output_type": "execute_result"
    }
   ],
   "source": [
    "df2"
   ]
  },
  {
   "cell_type": "code",
   "execution_count": 29,
   "id": "5eea00b4",
   "metadata": {},
   "outputs": [],
   "source": [
    "df3 = pd.DataFrame(data, columns=['Year', 'Density',\n",
    "'Median_Age'], index=['a', 'b', 'c', 'd'])"
   ]
  },
  {
   "cell_type": "code",
   "execution_count": 30,
   "id": "e9289a39",
   "metadata": {},
   "outputs": [
    {
     "data": {
      "text/html": [
       "<div>\n",
       "<style scoped>\n",
       "    .dataframe tbody tr th:only-of-type {\n",
       "        vertical-align: middle;\n",
       "    }\n",
       "\n",
       "    .dataframe tbody tr th {\n",
       "        vertical-align: top;\n",
       "    }\n",
       "\n",
       "    .dataframe thead th {\n",
       "        text-align: right;\n",
       "    }\n",
       "</style>\n",
       "<table border=\"1\" class=\"dataframe\">\n",
       "  <thead>\n",
       "    <tr style=\"text-align: right;\">\n",
       "      <th></th>\n",
       "      <th>Year</th>\n",
       "      <th>Density</th>\n",
       "      <th>Median_Age</th>\n",
       "    </tr>\n",
       "  </thead>\n",
       "  <tbody>\n",
       "    <tr>\n",
       "      <th>a</th>\n",
       "      <td>2000</td>\n",
       "      <td>244</td>\n",
       "      <td>24.2</td>\n",
       "    </tr>\n",
       "    <tr>\n",
       "      <th>b</th>\n",
       "      <td>2005</td>\n",
       "      <td>256</td>\n",
       "      <td>26.4</td>\n",
       "    </tr>\n",
       "    <tr>\n",
       "      <th>c</th>\n",
       "      <td>2010</td>\n",
       "      <td>268</td>\n",
       "      <td>28.5</td>\n",
       "    </tr>\n",
       "    <tr>\n",
       "      <th>d</th>\n",
       "      <td>2014</td>\n",
       "      <td>279</td>\n",
       "      <td>30.3</td>\n",
       "    </tr>\n",
       "  </tbody>\n",
       "</table>\n",
       "</div>"
      ],
      "text/plain": [
       "   Year  Density  Median_Age\n",
       "a  2000      244        24.2\n",
       "b  2005      256        26.4\n",
       "c  2010      268        28.5\n",
       "d  2014      279        30.3"
      ]
     },
     "execution_count": 30,
     "metadata": {},
     "output_type": "execute_result"
    }
   ],
   "source": [
    "df3\n"
   ]
  },
  {
   "cell_type": "code",
   "execution_count": 31,
   "id": "93a52f8a",
   "metadata": {},
   "outputs": [],
   "source": [
    "df4 = pd.DataFrame([\n",
    "['Peter', 16, 'pupil', 'TN', 'M', None],\n",
    "['Mary', 21, 'student', 'SG', 'F', None],\n",
    "['Nam', 22, 'student', 'HN', 'M', None],\n",
    "['Mai', 31, 'nurse', 'SG', 'F', None],\n",
    "['John', 28, 'laywer', 'SG', 'M', None]],\n",
    "columns=['name', 'age', 'career', 'province', 'sex', 'award'])"
   ]
  },
  {
   "cell_type": "code",
   "execution_count": 32,
   "id": "3d3cb136",
   "metadata": {},
   "outputs": [
    {
     "data": {
      "text/html": [
       "<div>\n",
       "<style scoped>\n",
       "    .dataframe tbody tr th:only-of-type {\n",
       "        vertical-align: middle;\n",
       "    }\n",
       "\n",
       "    .dataframe tbody tr th {\n",
       "        vertical-align: top;\n",
       "    }\n",
       "\n",
       "    .dataframe thead th {\n",
       "        text-align: right;\n",
       "    }\n",
       "</style>\n",
       "<table border=\"1\" class=\"dataframe\">\n",
       "  <thead>\n",
       "    <tr style=\"text-align: right;\">\n",
       "      <th></th>\n",
       "      <th>name</th>\n",
       "      <th>age</th>\n",
       "      <th>career</th>\n",
       "      <th>province</th>\n",
       "      <th>sex</th>\n",
       "      <th>award</th>\n",
       "    </tr>\n",
       "  </thead>\n",
       "  <tbody>\n",
       "    <tr>\n",
       "      <th>0</th>\n",
       "      <td>Peter</td>\n",
       "      <td>16</td>\n",
       "      <td>pupil</td>\n",
       "      <td>TN</td>\n",
       "      <td>M</td>\n",
       "      <td>None</td>\n",
       "    </tr>\n",
       "    <tr>\n",
       "      <th>1</th>\n",
       "      <td>Mary</td>\n",
       "      <td>21</td>\n",
       "      <td>student</td>\n",
       "      <td>SG</td>\n",
       "      <td>F</td>\n",
       "      <td>None</td>\n",
       "    </tr>\n",
       "    <tr>\n",
       "      <th>2</th>\n",
       "      <td>Nam</td>\n",
       "      <td>22</td>\n",
       "      <td>student</td>\n",
       "      <td>HN</td>\n",
       "      <td>M</td>\n",
       "      <td>None</td>\n",
       "    </tr>\n",
       "    <tr>\n",
       "      <th>3</th>\n",
       "      <td>Mai</td>\n",
       "      <td>31</td>\n",
       "      <td>nurse</td>\n",
       "      <td>SG</td>\n",
       "      <td>F</td>\n",
       "      <td>None</td>\n",
       "    </tr>\n",
       "    <tr>\n",
       "      <th>4</th>\n",
       "      <td>John</td>\n",
       "      <td>28</td>\n",
       "      <td>laywer</td>\n",
       "      <td>SG</td>\n",
       "      <td>M</td>\n",
       "      <td>None</td>\n",
       "    </tr>\n",
       "  </tbody>\n",
       "</table>\n",
       "</div>"
      ],
      "text/plain": [
       "    name  age   career province sex award\n",
       "0  Peter   16    pupil       TN   M  None\n",
       "1   Mary   21  student       SG   F  None\n",
       "2    Nam   22  student       HN   M  None\n",
       "3    Mai   31    nurse       SG   F  None\n",
       "4   John   28   laywer       SG   M  None"
      ]
     },
     "execution_count": 32,
     "metadata": {},
     "output_type": "execute_result"
    }
   ],
   "source": [
    "df4"
   ]
  },
  {
   "cell_type": "code",
   "execution_count": 33,
   "id": "3f24ee0e",
   "metadata": {},
   "outputs": [
    {
     "data": {
      "text/plain": [
       "0    Peter\n",
       "1     Mary\n",
       "2      Nam\n",
       "3      Mai\n",
       "4     John\n",
       "Name: name, dtype: object"
      ]
     },
     "execution_count": 33,
     "metadata": {},
     "output_type": "execute_result"
    }
   ],
   "source": [
    "df4['name']"
   ]
  },
  {
   "cell_type": "code",
   "execution_count": 34,
   "id": "01e7754c",
   "metadata": {},
   "outputs": [
    {
     "data": {
      "text/plain": [
       "0    Peter\n",
       "1     Mary\n",
       "2      Nam\n",
       "3      Mai\n",
       "4     John\n",
       "Name: name, dtype: object"
      ]
     },
     "execution_count": 34,
     "metadata": {},
     "output_type": "execute_result"
    }
   ],
   "source": [
    "df4.name"
   ]
  },
  {
   "cell_type": "code",
   "execution_count": 35,
   "id": "5eff8271",
   "metadata": {},
   "outputs": [
    {
     "data": {
      "text/plain": [
       "0    None\n",
       "1    None\n",
       "2    None\n",
       "3    None\n",
       "4    None\n",
       "Name: award, dtype: object"
      ]
     },
     "execution_count": 35,
     "metadata": {},
     "output_type": "execute_result"
    }
   ],
   "source": [
    "df4.award"
   ]
  },
  {
   "cell_type": "code",
   "execution_count": 38,
   "id": "a607ac44",
   "metadata": {},
   "outputs": [
    {
     "data": {
      "text/plain": [
       "name           Mary\n",
       "age              21\n",
       "career      student\n",
       "province         SG\n",
       "sex               F\n",
       "award          None\n",
       "Name: 1, dtype: object"
      ]
     },
     "execution_count": 38,
     "metadata": {},
     "output_type": "execute_result"
    }
   ],
   "source": [
    "df4.loc[1]"
   ]
  },
  {
   "cell_type": "code",
   "execution_count": 39,
   "id": "ff97409c",
   "metadata": {},
   "outputs": [],
   "source": [
    "df4 = pd.read_csv('person.csv')"
   ]
  },
  {
   "cell_type": "code",
   "execution_count": 40,
   "id": "f8b73526",
   "metadata": {},
   "outputs": [
    {
     "data": {
      "text/html": [
       "<div>\n",
       "<style scoped>\n",
       "    .dataframe tbody tr th:only-of-type {\n",
       "        vertical-align: middle;\n",
       "    }\n",
       "\n",
       "    .dataframe tbody tr th {\n",
       "        vertical-align: top;\n",
       "    }\n",
       "\n",
       "    .dataframe thead th {\n",
       "        text-align: right;\n",
       "    }\n",
       "</style>\n",
       "<table border=\"1\" class=\"dataframe\">\n",
       "  <thead>\n",
       "    <tr style=\"text-align: right;\">\n",
       "      <th></th>\n",
       "      <th>name</th>\n",
       "      <th>age</th>\n",
       "      <th>career</th>\n",
       "      <th>province</th>\n",
       "      <th>sex</th>\n",
       "    </tr>\n",
       "  </thead>\n",
       "  <tbody>\n",
       "    <tr>\n",
       "      <th>0</th>\n",
       "      <td>Peter</td>\n",
       "      <td>16</td>\n",
       "      <td>pupil</td>\n",
       "      <td>TN</td>\n",
       "      <td>M</td>\n",
       "    </tr>\n",
       "    <tr>\n",
       "      <th>1</th>\n",
       "      <td>Mary</td>\n",
       "      <td>21</td>\n",
       "      <td>student</td>\n",
       "      <td>SG</td>\n",
       "      <td>F</td>\n",
       "    </tr>\n",
       "    <tr>\n",
       "      <th>2</th>\n",
       "      <td>Nam</td>\n",
       "      <td>22</td>\n",
       "      <td>student</td>\n",
       "      <td>HN</td>\n",
       "      <td>M</td>\n",
       "    </tr>\n",
       "    <tr>\n",
       "      <th>3</th>\n",
       "      <td>Mai</td>\n",
       "      <td>31</td>\n",
       "      <td>nurse</td>\n",
       "      <td>SG</td>\n",
       "      <td>F</td>\n",
       "    </tr>\n",
       "    <tr>\n",
       "      <th>4</th>\n",
       "      <td>John</td>\n",
       "      <td>28</td>\n",
       "      <td>lawer</td>\n",
       "      <td>SG</td>\n",
       "      <td>M</td>\n",
       "    </tr>\n",
       "  </tbody>\n",
       "</table>\n",
       "</div>"
      ],
      "text/plain": [
       "    name  age   career province sex\n",
       "0  Peter   16    pupil       TN   M\n",
       "1   Mary   21  student       SG   F\n",
       "2    Nam   22  student       HN   M\n",
       "3    Mai   31    nurse       SG   F\n",
       "4   John   28    lawer       SG   M"
      ]
     },
     "execution_count": 40,
     "metadata": {},
     "output_type": "execute_result"
    }
   ],
   "source": [
    "df4"
   ]
  },
  {
   "cell_type": "code",
   "execution_count": 41,
   "id": "9f5bd81d",
   "metadata": {},
   "outputs": [
    {
     "data": {
      "text/plain": [
       "0    0.207859\n",
       "2    0.959841\n",
       "b         NaN\n",
       "3    0.238483\n",
       "dtype: float64"
      ]
     },
     "execution_count": 41,
     "metadata": {},
     "output_type": "execute_result"
    }
   ],
   "source": [
    "s2.reindex([0,2,'b',3])"
   ]
  },
  {
   "cell_type": "code",
   "execution_count": 42,
   "id": "6948e72d",
   "metadata": {},
   "outputs": [],
   "source": [
    "s7 = pd.Series(np.random.rand(1000))"
   ]
  },
  {
   "cell_type": "code",
   "execution_count": 43,
   "id": "d226dd20",
   "metadata": {},
   "outputs": [
    {
     "data": {
      "text/plain": [
       "0    0.668919\n",
       "1    0.443435\n",
       "2    0.035318\n",
       "3    0.571343\n",
       "4    0.497199\n",
       "dtype: float64"
      ]
     },
     "execution_count": 43,
     "metadata": {},
     "output_type": "execute_result"
    }
   ],
   "source": [
    "s7.head()"
   ]
  },
  {
   "cell_type": "code",
   "execution_count": 44,
   "id": "4251f758",
   "metadata": {},
   "outputs": [
    {
     "data": {
      "text/plain": [
       "997    0.641326\n",
       "998    0.816090\n",
       "999    0.139118\n",
       "dtype: float64"
      ]
     },
     "execution_count": 44,
     "metadata": {},
     "output_type": "execute_result"
    }
   ],
   "source": [
    "s7.tail(3)"
   ]
  }
 ],
 "metadata": {
  "kernelspec": {
   "display_name": "Python 3 (ipykernel)",
   "language": "python",
   "name": "python3"
  },
  "language_info": {
   "codemirror_mode": {
    "name": "ipython",
    "version": 3
   },
   "file_extension": ".py",
   "mimetype": "text/x-python",
   "name": "python",
   "nbconvert_exporter": "python",
   "pygments_lexer": "ipython3",
   "version": "3.7.16"
  }
 },
 "nbformat": 4,
 "nbformat_minor": 5
}
